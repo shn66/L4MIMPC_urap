{
 "cells": [
  {
   "cell_type": "code",
   "execution_count": null,
   "metadata": {},
   "outputs": [],
   "source": [
    "! pip install cvxpy"
   ]
  },
  {
   "cell_type": "code",
   "execution_count": 1,
   "metadata": {},
   "outputs": [
    {
     "name": "stdout",
     "output_type": "stream",
     "text": [
      "(CVXPY) Sep 15 01:34:22 PM: Encountered unexpected exception importing solver GUROBI:\n",
      "ImportError('libgurobi100.so: cannot open shared object file: No such file or directory')\n",
      "(CVXPY) Sep 15 01:34:23 PM: Encountered unexpected exception importing solver GUROBI:\n",
      "ImportError('libgurobi100.so: cannot open shared object file: No such file or directory')\n"
     ]
    }
   ],
   "source": [
    "import numpy as np\n",
    "import cvxpy as cp\n",
    "\n",
    "                                                                                \n",
    "def motion_planner( obs_size=np.array([[10,7.5,2,4,10,3,2],[7.5, 10,2,15,1.5,12,4]]),\n",
    "            obs_l=np.array([[-9.5, -9.5,-1.5,1,-1.5,5.5,6],[-9.5, -1,1,-7.5,8,-9.5,3]])): \n",
    "    \n",
    "    '''\n",
    "    Inputs:: \n",
    "    \n",
    "    obs_size :   2 x n_obs dimensional array, describing the width and height of obstacles. n_obs= no. of obstacles\n",
    "    obs_l    :   2 x n_obs dimensional array, describing the lower (south-western) corner of the obstacles\n",
    "\n",
    "    Outputs::\n",
    "\n",
    "    problem :    motion planning problem that can take starting position and goal position as parameters\n",
    "    \n",
    "    vars    :    variables for the motion planning problem = [state trajectory, input trajectory, binary variables for obstacle avoidance]\n",
    "\n",
    "    params  :    parameters for the motion planning problem = [initial state, goal state]\n",
    "\n",
    "    '''\n",
    "    \n",
    "    #  Obstacle \"i\" occupies the 2-dimensional interval:    [obs_l[:,i], obs_l[:,i]+obs_size[:,i]]\n",
    "    n_obs=obs_size.shape[1]\n",
    "    obs_u=obs_l+obs_size\n",
    "    \n",
    "\n",
    "    #### Dynamics model data ####\n",
    "    # State of the robot at time t: x_t=[ X_t, Y_t, \\dot{X}_t, \\dot{Y}_t]   (position and speeds in X and Y coordinates)\n",
    "    # control input at time t:      u_t=[\\dot{\\dot{X}}_t, \\dot{\\dot{Y}}_t], (accelerations in X and Y coordinates)\n",
    "    # Robot dynamics equation:      x_{t+1}=Ax_t+Bu_t                       (derived by integrating the differential equations  [\\dot{\\dot{X}}}_t, \\dot{\\dot{Y}}_t]=u_t)       \n",
    "    dt=0.2\n",
    "    A = np.matrix([[1, 0, dt, 0],[0, 1, 0, dt],[0, 0, 1, 0],[0, 0, 0, 1]])\n",
    "    B = dt*np.matrix([[0, 0],[0, 0],[1, 0],[0, 1]])\n",
    "\n",
    "    nx = A.shape[1]#% Number of states\n",
    "    nu = B.shape[1]#% Number of inputs\n",
    "\n",
    "    #### MPC data ####\n",
    "    # the cost function for the optimization problem is going to be \n",
    "    # \\sum_{k=0}^{N} (||Q*x_k||+||R*u_k||)\n",
    "    Q = 1000*np.identity(nx)\n",
    "    R = 50*np.identity(nu)\n",
    "    N = 100\n",
    "\n",
    "\n",
    "\n",
    "    #### Robot constraints ####\n",
    "\n",
    "    ## State constraints\n",
    "    # The robot state is subject to lb_x <= x_t <= ub_x\n",
    "    lb_x=np.array([-1,-5,-1,-1])    \n",
    "    ub_x=np.array([20,5,1,1])     \n",
    "    # robot must lie inside the rectangle with diagonally opposite points [-1,-5] and [20,5]\n",
    "    # robot's speed must be within -1 to 1 m/s in both X and Y directions\n",
    "   \n",
    "\n",
    "    ## Control constraints\n",
    "    # The robot's control (accleration) is subject to lb_u <= u_t <= ub_u\n",
    "    lb_u=np.array([-2,-2])\n",
    "    ub_u=-lb_u\n",
    "\n",
    " \n",
    "\n",
    "    # Declaring variables for state and input trajectories\n",
    "    x = cp.Variable((nx,N+1))    \n",
    "    u = cp.Variable((nu,N))\n",
    "\n",
    "\n",
    "    # Declare parameters\n",
    "    x0   = cp.Parameter(nx)\n",
    "    goal = cp.Parameter(nx) \n",
    "\n",
    "\n",
    "\n",
    "    # Declaring binary variables for obstacle avoidance formulation\n",
    "    b_l=[cp.Variable((2,N),boolean=True) for _ in range(n_obs)]\n",
    "    b_u=[cp.Variable((2,N),boolean=True) for _ in range(n_obs)]\n",
    "    \n",
    "    # big-M parameter\n",
    "    M = np.diag([2*ub_x[0], 2*ub_x[1]])\n",
    "    \n",
    "    # Motion planning problem setup\n",
    "\n",
    "    constraints = [x[:,0]==x0]   # initial condition constraint\n",
    "\n",
    "    objective   = 0\n",
    "    \n",
    "    for k in range(N):\n",
    "        constraints += [x[:,k+1]== A@x[:,k] + B@u[:,k]]    # adding dynamics constraints\n",
    "          \n",
    "        constraints+=[lb_x<=x[:,k+1],                      \n",
    "                      ub_x>=x[:,k+1]]                      # adding state constraints\n",
    "    \n",
    "        constraints+=[lb_u<=u[:,k],\n",
    "                      ub_u>=u[:,k]]                        # adding control constraints\n",
    "\n",
    "\n",
    "        # big-M formulation of obstacle avoidance constraints  (DON'T WORRY ABOUT THIS FOR NOW, I WILL EXPLAIN!)\n",
    "        for i in range (n_obs):\n",
    "            constraints+=[x[0:2,k+1]<=obs_l[:,i]+M@b_l[i][:,k],\n",
    "                          x[0:2,k+1]>=obs_u[:,i]-M@b_u[i][:,k], \n",
    "                          b_l[i][0,k]+b_l[i][1,k]+b_u[i][0,k]+b_u[i][1,k]<=2*2-1]       \n",
    "\n",
    "        objective = objective + cp.norm(Q@(x[:,k]-goal),'inf') + cp.norm(R@u[:,k],'inf') # calculating cumulative cost\n",
    "        \n",
    "           \n",
    "    \n",
    "    objective = objective + 100*cp.norm(Q@(x[:,-1]-goal),'inf') # adding extreme penalty on terminal state to encourage getting close to the goal\n",
    "\n",
    "\n",
    "    # Now, we define the problem\n",
    "    problem = cp.Problem(cp.Minimize(objective), constraints)\n",
    "\n",
    "    return problem, [x, u, b_l, b_u], [x0, goal]\n",
    "  \n",
    "    \n"
   ]
  },
  {
   "cell_type": "code",
   "execution_count": 2,
   "metadata": {},
   "outputs": [],
   "source": [
    "## Construct the motion planning problem  \n",
    "\n",
    "obs_size=np.array([[2.5, 2.5, 2.5, 1.7, 2],[2, 7, 2, 6.5, 8]])\n",
    "obs_l=np.array([[-1, 2, 2, 5, 7],[1, -5, 3, -2, -5]])\n",
    "n_obs=obs_size.shape[-1]\n",
    "\n",
    "problem, vars, params = motion_planner(obs_size=obs_size, obs_l=obs_l)\n",
    "\n",
    "x, u, b_l, b_u = vars\n",
    "x0, goal       = params"
   ]
  },
  {
   "cell_type": "code",
   "execution_count": 3,
   "metadata": {},
   "outputs": [
    {
     "name": "stdout",
     "output_type": "stream",
     "text": [
      "Status:  optimal\n",
      "Optimal cost:  378718.0270684\n",
      "Solve time (seconds):  30.796274006000004\n"
     ]
    }
   ],
   "source": [
    "## Instantiate the motion planning problem with an initial and goal condition\n",
    "x0.value=   np.array([10.0, 0.0, 0.0, 0.0])\n",
    "goal.value= np.array([0.,0.,0.,0.])\n",
    "\n",
    "\n",
    "problem.solve(verbose=False)\n",
    "\n",
    "print(\"Status: \",problem.status)\n",
    "print(\"Optimal cost: \", problem.value)\n",
    "print(\"Solve time (seconds): \", problem.solver_stats.solve_time)\n",
    "\n",
    "# Finally, collect the optimized trajectory\n",
    "x_sol=x.value\n",
    "u_sol=u.value\n",
    "b_l_sol=[b_l[i].value for i in range(n_obs)]\n",
    "b_u_sol=[b_u[i].value for i in range(n_obs)]"
   ]
  },
  {
   "cell_type": "code",
   "execution_count": 4,
   "metadata": {},
   "outputs": [
    {
     "data": {
      "image/png": "[encoded data removed]",
      "text/plain": [
       "<Figure size 640x480 with 1 Axes>"
      ]
     },
     "metadata": {},
     "output_type": "display_data"
    }
   ],
   "source": [
    "import matplotlib.pyplot as plt\n",
    "from matplotlib.patches import Rectangle\n",
    "%matplotlib inline\n",
    "\n",
    "\n",
    "fig=plt.figure()\n",
    "\n",
    "plt.gca().add_patch(Rectangle((-1,-5),11,10, linewidth=5.0, ec='g', fc ='w', alpha=0.2, label=\"boundary\"))\n",
    "plt.plot(x_sol[0,:], x_sol[1,:],'o', label=\"trajectory\")\n",
    "plt.plot(0., 0., '*', linewidth=10, label=\"goal\")\n",
    "for i in range(n_obs):\n",
    "    if i==0:\n",
    "        plt.gca().add_patch(Rectangle((obs_l[0,i],obs_l[1,i]),obs_size[0,i],obs_size[1,i], ec='r', fc='r', label=\"obstacle\"))\n",
    "    else:\n",
    "        plt.gca().add_patch(Rectangle((obs_l[0,i],obs_l[1,i]),obs_size[0,i],obs_size[1,i], ec='r', fc='r'))\n",
    "plt.legend(loc=3)\n",
    "plt.show()"
   ]
  },
  {
   "cell_type": "code",
   "execution_count": null,
   "metadata": {},
   "outputs": [],
   "source": []
  }
 ],
 "metadata": {
  "kernelspec": {
   "display_name": "Python 3",
   "language": "python",
   "name": "python3"
  },
  "language_info": {
   "codemirror_mode": {
    "name": "ipython",
    "version": 3
   },
   "file_extension": ".py",
   "mimetype": "text/x-python",
   "name": "python",
   "nbconvert_exporter": "python",
   "pygments_lexer": "ipython3",
   "version": "3.10.9"
  },
  "orig_nbformat": 4
 },
 "nbformat": 4,
 "nbformat_minor": 2
}
