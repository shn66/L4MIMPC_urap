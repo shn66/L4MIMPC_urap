{
 "cells": [
  {
   "cell_type": "code",
   "execution_count": 4,
   "metadata": {},
   "outputs": [
    {
     "name": "stdout",
     "output_type": "stream",
     "text": [
      "/bin/bash: pip: command not found\n"
     ]
    }
   ],
   "source": [
    "! pip install cvxpy"
   ]
  },
  {
   "cell_type": "markdown",
   "metadata": {},
   "source": [
    "<img src=\"latex0.png\" width=\"420\">\n",
    "<img src=\"latex1.png\" width=\"420\">"
   ]
  },
  {
   "cell_type": "code",
   "execution_count": 5,
   "metadata": {},
   "outputs": [],
   "source": [
    "import numpy as np\n",
    "import cvxpy as cp\n",
    "                                                                                \n",
    "def motion_planner(obs_size = np.array(\n",
    "                    [[10, 7.5, 2, 4,  10,  3,  2],\n",
    "                     [7.5, 10, 2, 15, 1.5, 12, 4]]\n",
    "                    ),\n",
    "                    obs_lower = np.array(\n",
    "                    [[-9.5, -9.5, -1.5, 1, -1.5, 5.5, 6],\n",
    "                     [-9.5, -1,    1,  -7.5, 8, -9.5, 3]]\n",
    "                    )):\n",
    "    '''\n",
    "    Inputs:\n",
    "    \n",
    "    obs_size:   2 x num_obs dimensional array, describing the width and height of obstacles. num_obs = # of obstacles\n",
    "    obs_lower:  2 x num_obs dimensional array, describing the lower (south-western) corner of the obstacles\n",
    "\n",
    "    Outputs:\n",
    "\n",
    "    problem:    motion planning problem that can take starting position and goal position as parameters\n",
    "    vars:       variables for the motion planning problem = [state trajectory, input trajectory, binary variables for obstacle avoidance]\n",
    "    params:     parameters for the motion planning problem = [initial state, goal state]\n",
    "    '''\n",
    "# Obstacle \"i\" occupies the 2-dimensional interval: \n",
    "    # [obs_lower[:, i], obs_lower[:, i] + obs_size[:, i]]\n",
    "    num_obs   = obs_size.shape[1]\n",
    "    obs_upper = obs_lower + obs_size\n",
    "\n",
    "#### Dynamics model data ####\n",
    "    ## SEE SCREENSHOT 1 ##\n",
    "    dt = 0.2\n",
    "    A = np.matrix(\n",
    "        [[1, 0, dt, 0],\n",
    "         [0, 1, 0, dt],\n",
    "         [0, 0, 1,  0],\n",
    "         [0, 0, 0,  1]])\n",
    "    \n",
    "    B = dt * np.matrix(\n",
    "        [[0, 0],\n",
    "         [0, 0],\n",
    "         [1, 0],\n",
    "         [0, 1]])\n",
    "    num_states = A.shape[1]\n",
    "    num_inputs = B.shape[1]\n",
    "    \n",
    "#### Robot constraints ####\n",
    "    ## SEE SCREENSHOT 2 ##\n",
    "    Q = 1000 * np.identity(num_states)\n",
    "    R = 50   * np.identity(num_inputs)\n",
    "    N = 100\n",
    "\n",
    "## State constraints\n",
    "    # The robot state is subject to lower_x <= x_t <= upper_x\n",
    "    lower_x = np.array([-1, -5, -1, -1])\n",
    "    upper_x = np.array([20,  5,  1,  1])\n",
    "\n",
    "    print(f\"\\nupper_x.shape = {upper_x.shape}\\n\")\n",
    "        # robot must lie inside the rectangle with diagonally opposite points [-1, -5] and [10, 5]\n",
    "        # robot's speed must be within -1 to 1 m/s in both X and Y directions\n",
    "   \n",
    "## Control constraints\n",
    "    # The robot's control (accleration) is subject to lower_u <= u_t <= upper_u\n",
    "    lower_u = np.array([-2, -2])\n",
    "    upper_u = -lower_u\n",
    "\n",
    "    # Declaring variables for state and input trajectories\n",
    "    state = cp.Variable((num_states, N + 1)) # STATE IS X\n",
    "    input = cp.Variable((num_inputs, N))     # INPUT IS U\n",
    "\n",
    "    # Declare parameters\n",
    "    state0 = cp.Parameter(num_states)\n",
    "    goal   = cp.Parameter(num_states) \n",
    "\n",
    "#### Obstacle avoidance ####\n",
    "\n",
    "    # Declaring binary variables for obstacle avoidance formulation\n",
    "    boxes_low = [cp.Variable((2, N), boolean=True) for _ in range(num_obs)] # BOXES_LOW IS B_L\n",
    "    boxes_upp = [cp.Variable((2, N), boolean=True) for _ in range(num_obs)] # BOXES_UPP IS B_U\n",
    "    \n",
    "    # big-M parameter\n",
    "    M = np.diag([2 * upper_x[0], 2 * upper_x[1]])\n",
    "    \n",
    "    # Motion planning problem setup\n",
    "    constraints = [state[:, 0] == state0]   # initial condition constraint\n",
    "    objective = 0\n",
    "    \n",
    "    for k in range(N):\n",
    "        ## SEE SCREENSHOT 1 ##\n",
    "        # @ is matrix (dot) multiplication\n",
    "        constraints += [state[:, k + 1] == A @ state[:, k] + B @ input[:, k]] # adding dynamics constraints\n",
    "          \n",
    "        constraints += [lower_x <= state[:, k + 1], upper_x >= state[:, k + 1]] # adding state constraints\n",
    "    \n",
    "        constraints += [lower_u <= input[:, k], upper_u >= input[:, k]] # adding control constraints\n",
    "\n",
    "        # big-M formulation of obstacle avoidance constraints\n",
    "        for i in range(num_obs):\n",
    "\n",
    "            constraints += [state[0:2, k + 1] <= obs_lower[:, i] + M @ boxes_low[i][:, k],\n",
    "                            state[0:2, k + 1] >= obs_upper[:, i] - M @ boxes_upp[i][:, k],\n",
    "\n",
    "                            # IF YOU SATISFY ALL 4 OF A BOX'S CONSTRAINTS, YOURE IN THE BOX.\n",
    "                            boxes_low[i][0, k] + boxes_low[i][1, k] + boxes_upp[i][0, k] + boxes_upp[i][1, k] <= 3]\n",
    "\n",
    "        ## SEE SCREENSHOT 2 ##\n",
    "        # calculating cumulative cost\n",
    "        objective += cp.norm(Q @ (state[:, k] - goal), 'inf') + cp.norm(R @ input[:, k], 'inf') \n",
    "    \n",
    "    # adding extreme penalty on terminal state to encourage getting close to the goal\n",
    "    objective += 100 * cp.norm(Q @ (state[:, -1] - goal), 'inf')\n",
    "\n",
    "    # Now, we define the problem\n",
    "    problem = cp.Problem(cp.Minimize(objective), constraints)\n",
    "    return problem, [state, input, boxes_low, boxes_upp], [state0, goal]"
   ]
  },
  {
   "cell_type": "code",
   "execution_count": 6,
   "metadata": {},
   "outputs": [
    {
     "name": "stdout",
     "output_type": "stream",
     "text": [
      "\n",
      "upper_x.shape = (4,)\n",
      "\n"
     ]
    }
   ],
   "source": [
    "## Construct the motion planning problem\n",
    "\n",
    "obs_size = np.array(\n",
    "                    [[2.5, 2.5, 2.5, 1.7, 2],   # width\n",
    "                     [2,   7,   2,   6.5, 8]])  # height\n",
    "obs_lower = np.array(\n",
    "                    [[-1, 2, 2,  5,  7],    # lower x coord\n",
    "                     [1, -5, 3, -2, -5]])   # lower y coord\n",
    "num_obs = obs_size.shape[-1]\n",
    "\n",
    "problem, vars, params = motion_planner(obs_size, obs_lower)\n",
    "\n",
    "# X    # U    # B_L     # B_U\n",
    "state, input, boxes_low, boxes_upp = vars\n",
    "state0, goal = params"
   ]
  },
  {
   "cell_type": "code",
   "execution_count": 7,
   "metadata": {},
   "outputs": [
    {
     "name": "stdout",
     "output_type": "stream",
     "text": [
      "Status:  optimal\n",
      "Optimal cost:  378718.0270683998\n",
      "Solve time (seconds):  None\n"
     ]
    }
   ],
   "source": [
    "## Instantiate the motion planning problem with an initial and goal condition\n",
    "\n",
    "state0.value = np.array([10.0, 0.0, 0.0, 0.0])\n",
    "goal.value   = np.array([0.0,  0.0, 0.0 ,0.0])\n",
    "\n",
    "problem.solve(verbose=False)\n",
    "\n",
    "print(\"Status: \", problem.status)\n",
    "print(\"Optimal cost: \", problem.value)\n",
    "print(\"Solve time (seconds): \", problem.solver_stats.solve_time)\n",
    "\n",
    "# Finally, collect the optimized trajectory\n",
    "x_sol = state.value\n",
    "u_sol = input.value\n",
    "bl_sol = [boxes_low[i].value for i in range(num_obs)]\n",
    "bu_sol = [boxes_upp[i].value for i in range(num_obs)]"
   ]
  },
  {
   "cell_type": "code",
   "execution_count": 8,
   "metadata": {},
   "outputs": [
    {
     "data": {
      "image/png": "[encoded data removed]",
      "text/plain": [
       "<Figure size 640x480 with 1 Axes>"
      ]
     },
     "metadata": {},
     "output_type": "display_data"
    }
   ],
   "source": [
    "import matplotlib.pyplot as plt\n",
    "from matplotlib.patches import Rectangle\n",
    "%matplotlib inline\n",
    "\n",
    "figure = plt.figure()\n",
    "\n",
    "plt.gca().add_patch(Rectangle((-1, -5), 11, 10, linewidth=5.0, ec='g', fc='w', alpha=0.2, label=\"boundary\"))\n",
    "plt.plot(x_sol[0, :], x_sol[1, :], 'o', label=\"trajectory\")\n",
    "plt.plot(0.0, 0.0, '*', linewidth=10, label=\"goal\")\n",
    "\n",
    "for i in range(num_obs):\n",
    "    if i == 0:\n",
    "        plt.gca().add_patch(Rectangle((obs_lower[0, i], obs_lower[1, i]), obs_size[0, i], obs_size[1, i], ec='r', fc='r', label=\"obstacle\"))\n",
    "    else:\n",
    "        plt.gca().add_patch(Rectangle((obs_lower[0, i], obs_lower[1, i]), obs_size[0, i], obs_size[1, i], ec='r', fc='r'))\n",
    "plt.legend(loc = 3)\n",
    "plt.show()"
   ]
  }
 ],
 "metadata": {
  "kernelspec": {
   "display_name": "Python 3.9.0 64-bit",
   "language": "python",
   "name": "python3"
  },
  "language_info": {
   "codemirror_mode": {
    "name": "ipython",
    "version": 3
   },
   "file_extension": ".py",
   "mimetype": "text/x-python",
   "name": "python",
   "nbconvert_exporter": "python",
   "pygments_lexer": "ipython3",
   "version": "3.9.0"
  },
  "orig_nbformat": 4,
  "vscode": {
   "interpreter": {
    "hash": "aee8b7b246df8f9039afb4144a1f6fd8d2ca17a180786b69acc140d282b71a49"
   }
  }
 },
 "nbformat": 4,
 "nbformat_minor": 2
}
